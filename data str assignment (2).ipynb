{
 "cells": [
  {
   "cell_type": "markdown",
   "id": "0c56495f-c3b3-424d-9479-ba84b8bcd212",
   "metadata": {},
   "source": [
    "1. What are data structures and why they are important?\n",
    ">> Data structures are special format for storing , organising and acessing data.\n",
    ">> They are important because it optimises searchung and storing operations,conserve memory use,we can use them directly as they are predefined. "
   ]
  },
  {
   "cell_type": "markdown",
   "id": "1f401131-6fe4-45dc-b92b-1c7c2714e8cb",
   "metadata": {},
   "source": [
    "2. Explain the difference between mutable and immutable datatypes with examples.\n",
    ">>  In python some objects are changeable (mutable) and some are non changeable(immutable) .for example string is immutable but list are mutable .\n"
   ]
  },
  {
   "cell_type": "code",
   "execution_count": 5,
   "id": "ffc9c07e-2c96-4c7b-9289-862d3e146e17",
   "metadata": {},
   "outputs": [
    {
     "data": {
      "text/plain": [
       "['apple', 'mango', 'banana', 'grapes']"
      ]
     },
     "execution_count": 5,
     "metadata": {},
     "output_type": "execute_result"
    }
   ],
   "source": [
    "list1=[\"apple\",\"mango\",\"banana\"]\n",
    "list1.append(\"grapes\")\n",
    "list1"
   ]
  },
  {
   "cell_type": "markdown",
   "id": "b66d85e7-3bab-41a7-9e3f-e76056932fac",
   "metadata": {},
   "source": [
    "\n",
    "\n",
    "string1=\"My name is SHREYA SAHA\"\n",
    "string1"
   ]
  },
  {
   "cell_type": "markdown",
   "id": "35c36601-9ca1-4856-9e40-fbdd4dfa48d1",
   "metadata": {},
   "source": [
    "3. What are the main difference between list and tuple.\n",
    ">> The main difference between list and tuple is that list is mutable we can modify after creation it but tuples are immutable in nature , once created cannot be modified.    "
   ]
  },
  {
   "cell_type": "markdown",
   "id": "856f15e6-93fa-4df9-85c3-69dab5b1c376",
   "metadata": {},
   "source": [
    "4. Describe how dictionary store data.\n",
    ">> Dictionary store data in form of key and value pairs and these key and values can be of different data types. Dictionarys store data in unordered form and these are mutable .\n",
    "\n",
    "5.why might you use a set instead of list in python?\n",
    ">>  set are unordered collection of unique elements duplicate entries are not allowed , we can use them for checking membership but in a list duplicate elements are also present so we can use sets when it comes to have unique value."
   ]
  },
  {
   "cell_type": "markdown",
   "id": "da397b57-d340-4e40-8f95-6c6b8376aaa1",
   "metadata": {},
   "source": [
    "6.what is a string in python and how it is different from list?\n",
    ">> Strings are  characters that are placed in unchangeable manner. It is immutable so  Indexing can be done. it is different from list because list are mutable and it is immutable."
   ]
  },
  {
   "cell_type": "markdown",
   "id": "d1920e85-760b-474c-b72b-c7875af3d907",
   "metadata": {},
   "source": [
    "7.How tuple ensure data integrity in python?\n",
    ">>Tuples being immutable and ordered in nature ensures data integrity in python"
   ]
  },
  {
   "cell_type": "markdown",
   "id": "5011a28d-fd2d-4d7c-88c2-d465ccbf1aa1",
   "metadata": {},
   "source": [
    "8.What is the hash table and how does it relate to dictionarIes in python?\n",
    "\n",
    ".>>A hash table is a data structure that stores key-value pairs and uses a hash function to find keys to their corresponding values. In Python, dictionaries are implemented using hash tables.  "
   ]
  },
  {
   "cell_type": "markdown",
   "id": "159cc320-78dc-47d3-88cc-5e1daf4f079e",
   "metadata": {},
   "source": [
    "  9.Can list contain different data types in python?\n",
    ">>Yes list can contain different data types in python. A list can contain string,integer, float, Boolean values altogether."
   ]
  },
  {
   "cell_type": "markdown",
   "id": "7cb1e49e-148f-4e9a-bfe6-8a465092a154",
   "metadata": {},
   "source": [
    "10.Explain why strings are immutable in python?\n",
    ">>String is immutable because it contain  sequence of characters, and this sequence cannot be changed."
   ]
  },
  {
   "cell_type": "markdown",
   "id": "fbeb04fe-555e-44ce-b7db-bd532bd2ebe3",
   "metadata": {},
   "source": [
    "11.What advantages do dictionary offers over list for certain task?\n",
    ">>Advantage dictionary offers over list is that we can find data easily and quickly by key values pairs where in list we need to see the whole list to search ."
   ]
  },
  {
   "cell_type": "markdown",
   "id": "ea75f6a1-2180-4748-be76-692e1a27a1c0",
   "metadata": {},
   "source": [
    "12.Describe a scenario where using a tuple would be preferable over a list.\n",
    ">>Museum exhibits artifacts in a fixed display case.These artifacts are fixed and cannot be rearranged or removed ensuring there preservation but as list are mutable it cannot be used to preserve as someone could remove or rearrange it."
   ]
  },
  {
   "cell_type": "markdown",
   "id": "c314fa0c-73da-4618-98dd-79b6f6cc09bf",
   "metadata": {},
   "source": [
    "13.How sets handle duplicate values in python?\n",
    ">>Sets are unordered collection of unique elements and so duplicate elements are not allowed in set."
   ]
  },
  {
   "cell_type": "markdown",
   "id": "fc79d6b2-7b04-48c6-8bb7-9063603250a2",
   "metadata": {},
   "source": [
    "14.How does in keyword works differently for list and dictionary?\n",
    "In dictionary in is used to check the membership wether the key or vakue is present or not."
   ]
  },
  {
   "cell_type": "markdown",
   "id": "1e0971e1-d1ff-4b9d-8aa3-b24586d50007",
   "metadata": {},
   "source": [
    "15.Can you modify the elements in a tuple? Explain why or why not.\n",
    ">>No we cannot modify elements in a tuple  once created because it is immutable."
   ]
  },
  {
   "cell_type": "code",
   "execution_count": 66,
   "id": "e2dbe1ad-ca72-4fb8-8f08-c982a93eb846",
   "metadata": {},
   "outputs": [
    {
     "name": "stdout",
     "output_type": "stream",
     "text": [
      "shreya\n"
     ]
    }
   ],
   "source": [
    "16#.what is nested dictionary and give an example of its use case\n",
    "nested_dict = {\n",
    "    \"person1\": {\n",
    "        \"name\": \"shreya\",\n",
    "        \"age\": 25,\n",
    "        \n",
    "    },\n",
    "    \"person2\": {\n",
    "        \"name\": \"vinay\",\n",
    "        \"age\": 26,\n",
    "        \n",
    "    }\n",
    "}\n",
    "print(nested_dict[\"person1\"][\"name\"])  "
   ]
  },
  {
   "cell_type": "markdown",
   "id": "9ccec118-d7da-404b-ab98-02abd5409c88",
   "metadata": {},
   "source": [
    "17.Describe the time complexity of assessing elements in a dictionary.\n",
    ">>The time complexity of acessing elements in a dictionary is constant as because it is very easy to find the key value pairs in it as it use hash table."
   ]
  },
  {
   "cell_type": "markdown",
   "id": "afa5bf10-9dd8-485c-8913-0b16bb7951bb",
   "metadata": {},
   "source": [
    "\n",
    "18.In what situation a list is preferred over dictionary .\n",
    ">>List is preferred over dictionary when we need ordered collection of data and when we want them to modify them according to our need as it also contain duplicate values."
   ]
  },
  {
   "cell_type": "markdown",
   "id": "72cd6659-bd72-4e10-b793-a710e5f1be1b",
   "metadata": {},
   "source": [
    "19.Why are dictionaries is considered an unordered and how does the effect data retrieval ?\n",
    ">>In dictionary element or not stored in specific order . Data retrieval is very easy because dictionary uses hash table and quickly available because of key value pairs."
   ]
  },
  {
   "cell_type": "markdown",
   "id": "23395bd6-394f-454e-ad06-3e5e25730768",
   "metadata": {},
   "source": [
    "20.Explain the difference between a list and a dictionary in terms of data retrieval.\n",
    ">>In list data is stored in a ordered manner so to check any data we need to go through the whole list as repetition can be there but as dictionary uses hash table and  to check any data in that dictionary we can either use the key or value from the pair."
   ]
  },
  {
   "cell_type": "code",
   "execution_count": 29,
   "id": "82d7af38-db6b-4bc4-9d52-876e865b00b2",
   "metadata": {},
   "outputs": [],
   "source": [
    "#                        PRACTICAL QUESTIONS"
   ]
  },
  {
   "cell_type": "code",
   "execution_count": null,
   "id": "a96860b5-87da-47a1-8da5-d0b3d74f744b",
   "metadata": {},
   "outputs": [],
   "source": [
    "#1.Write a CODE to create a string with your name and print it."
   ]
  },
  {
   "cell_type": "code",
   "execution_count": 33,
   "id": "4ce88b44-83a8-481e-93ca-9af8abe2da85",
   "metadata": {},
   "outputs": [
    {
     "name": "stdout",
     "output_type": "stream",
     "text": [
      "My name is Shreya Saha\n"
     ]
    }
   ],
   "source": [
    "string1=(\"My name is Shreya Saha\")\n",
    "print(string1)"
   ]
  },
  {
   "cell_type": "code",
   "execution_count": null,
   "id": "11347a70-9eab-4bf7-a15f-999e3575c1e9",
   "metadata": {},
   "outputs": [],
   "source": [
    "#2.Write a code to find the length of string \"hello world\""
   ]
  },
  {
   "cell_type": "code",
   "execution_count": 35,
   "id": "485812cb-1f5e-4487-92b5-ee4e71342d1e",
   "metadata": {},
   "outputs": [
    {
     "data": {
      "text/plain": [
       "11"
      ]
     },
     "execution_count": 35,
     "metadata": {},
     "output_type": "execute_result"
    }
   ],
   "source": [
    "word=\"hello world\"\n",
    "len(word)"
   ]
  },
  {
   "cell_type": "code",
   "execution_count": null,
   "id": "cf72cd40-c9ee-4c61-8d5a-6f6973c3ba22",
   "metadata": {},
   "outputs": [],
   "source": [
    "#3.Write a code to slice the first three characters from the string python programming.\n"
   ]
  },
  {
   "cell_type": "code",
   "execution_count": 37,
   "id": "a0c69f81-bf0a-4a77-8f23-e9d5f0fc47ba",
   "metadata": {},
   "outputs": [
    {
     "data": {
      "text/plain": [
       "'hel'"
      ]
     },
     "execution_count": 37,
     "metadata": {},
     "output_type": "execute_result"
    }
   ],
   "source": [
    "string1=\"helicopter\"\n",
    "string1[:3]"
   ]
  },
  {
   "cell_type": "code",
   "execution_count": null,
   "id": "e4b8498e-da95-49fd-ac37-144d4ad8235a",
   "metadata": {},
   "outputs": [],
   "source": [
    "#4.Write a code to convert the string hello to uppercase\n"
   ]
  },
  {
   "cell_type": "code",
   "execution_count": 45,
   "id": "20bcafb4-4f1d-46fe-823e-0349c8a2a2eb",
   "metadata": {},
   "outputs": [
    {
     "name": "stdout",
     "output_type": "stream",
     "text": [
      "HELLO\n"
     ]
    }
   ],
   "source": [
    "word=\"hello\"\n",
    "print(word.upper())"
   ]
  },
  {
   "cell_type": "code",
   "execution_count": null,
   "id": "7f0b9ead-235f-44f3-a9db-5da28b1dd19a",
   "metadata": {},
   "outputs": [],
   "source": [
    "#5. write a code to replace the word 'apple' with 'arrange' in the string 'I like apple'."
   ]
  },
  {
   "cell_type": "code",
   "execution_count": 51,
   "id": "4330fdc0-5b67-4540-b1d1-1bbd6c4f53d5",
   "metadata": {},
   "outputs": [
    {
     "name": "stdout",
     "output_type": "stream",
     "text": [
      "I like arrange\n"
     ]
    }
   ],
   "source": [
    "text = \"I like apples\"\n",
    "new_text = text.replace(\"apples\", \"arrange\")\n",
    "print(new_text)"
   ]
  },
  {
   "cell_type": "code",
   "execution_count": null,
   "id": "fc6bfa5a-6d7e-4b8e-b308-5fb039d4d35a",
   "metadata": {},
   "outputs": [],
   "source": [
    "#6.write a code to create a list with number 1to 5 and print it."
   ]
  },
  {
   "cell_type": "code",
   "execution_count": 57,
   "id": "e5b5fc09-c4a1-4652-8f0a-ad5bd7102b5c",
   "metadata": {},
   "outputs": [
    {
     "name": "stdout",
     "output_type": "stream",
     "text": [
      "[1, 2, 3, 4, 5]\n"
     ]
    }
   ],
   "source": [
    "list=[1,2,3,4,5]\n",
    "print (list)"
   ]
  },
  {
   "cell_type": "code",
   "execution_count": null,
   "id": "d2e6db7e-56e8-4fb1-8575-10538b246415",
   "metadata": {},
   "outputs": [],
   "source": [
    "#7.write a code tp append the number 10 to the list [1,2,3,4]"
   ]
  },
  {
   "cell_type": "code",
   "execution_count": 65,
   "id": "ad98b71a-27e6-4b23-8a11-58ded1c3863f",
   "metadata": {},
   "outputs": [
    {
     "data": {
      "text/plain": [
       "[1, 2, 3, 4, 10]"
      ]
     },
     "execution_count": 65,
     "metadata": {},
     "output_type": "execute_result"
    }
   ],
   "source": [
    "list=[1,2,3,4]\n",
    "list.append(10)\n",
    "list\n"
   ]
  },
  {
   "cell_type": "code",
   "execution_count": null,
   "id": "4fa6c686-3ce8-4569-a512-4c3143a0ab58",
   "metadata": {},
   "outputs": [],
   "source": [
    "#8. Write a code to remove the number 3 from the list [1,2,3,4,5]"
   ]
  },
  {
   "cell_type": "code",
   "execution_count": 67,
   "id": "c3264d58-00fb-40bf-a2df-f6d30308a4df",
   "metadata": {},
   "outputs": [
    {
     "data": {
      "text/plain": [
       "[1, 2, 4, 5]"
      ]
     },
     "execution_count": 67,
     "metadata": {},
     "output_type": "execute_result"
    }
   ],
   "source": [
    "list=[1,2,3,4,5]\n",
    "list.remove(3)\n",
    "list"
   ]
  },
  {
   "cell_type": "code",
   "execution_count": null,
   "id": "6d1eb1a4-2aac-4024-b576-b1b2fce481e8",
   "metadata": {},
   "outputs": [],
   "source": [
    "#9.write the code to acess the second element in list['a','b','c','d']"
   ]
  },
  {
   "cell_type": "code",
   "execution_count": 70,
   "id": "543b8585-ac06-4771-ae2c-9134660c1084",
   "metadata": {},
   "outputs": [
    {
     "data": {
      "text/plain": [
       "'b'"
      ]
     },
     "execution_count": 70,
     "metadata": {},
     "output_type": "execute_result"
    }
   ],
   "source": [
    "list2=['a','b','c','d']\n",
    "list2[1]"
   ]
  },
  {
   "cell_type": "code",
   "execution_count": null,
   "id": "a467f6c3-e97d-43b5-9306-f4f6ab5d9bbb",
   "metadata": {},
   "outputs": [],
   "source": [
    "#10. write a code to reverse the list.[10,20,30,40,50]"
   ]
  },
  {
   "cell_type": "code",
   "execution_count": 86,
   "id": "5632a4fd-1510-4a0d-a4af-ac37a77fd30c",
   "metadata": {},
   "outputs": [
    {
     "name": "stdout",
     "output_type": "stream",
     "text": [
      "[50, 40, 30, 20, 10]\n"
     ]
    }
   ],
   "source": [
    "list3=[10,20,30,40,50]\n",
    "list3.sort(reverse=True)\n",
    "print(list3)"
   ]
  },
  {
   "cell_type": "code",
   "execution_count": null,
   "id": "2771f5a8-a385-4458-b077-d57deb8686aa",
   "metadata": {},
   "outputs": [],
   "source": [
    "#11. write a code to ceate atuple with elements 100, 200, 300 and print it"
   ]
  },
  {
   "cell_type": "code",
   "execution_count": 90,
   "id": "5ea37755-e330-43e6-b56c-f64415ba61e4",
   "metadata": {},
   "outputs": [
    {
     "name": "stdout",
     "output_type": "stream",
     "text": [
      "(100, 200, 300)\n"
     ]
    }
   ],
   "source": [
    "t1=(100,200,300)\n",
    "print(t1)"
   ]
  },
  {
   "cell_type": "code",
   "execution_count": 94,
   "id": "af2a250e-4d72-4101-9700-21d4b0e412b7",
   "metadata": {},
   "outputs": [
    {
     "data": {
      "text/plain": [
       "tuple"
      ]
     },
     "execution_count": 94,
     "metadata": {},
     "output_type": "execute_result"
    }
   ],
   "source": [
    "type(t1)"
   ]
  },
  {
   "cell_type": "code",
   "execution_count": null,
   "id": "42d1b7f9-2a99-46a5-9539-e4098df2f860",
   "metadata": {},
   "outputs": [],
   "source": [
    "#12. write a code to acess the second to last element in a tuple (\"red\",\"green\",\"blue\",\"yellow\")"
   ]
  },
  {
   "cell_type": "code",
   "execution_count": 8,
   "id": "0d04deaf-7715-4d0f-bcc9-f2d8d2a7c1f2",
   "metadata": {},
   "outputs": [
    {
     "data": {
      "text/plain": [
       "'blue'"
      ]
     },
     "execution_count": 8,
     "metadata": {},
     "output_type": "execute_result"
    }
   ],
   "source": [
    "colour=(\"red\",\"green\",\"blue\",\"yellow\") \n",
    "colour[-2]\n"
   ]
  },
  {
   "cell_type": "code",
   "execution_count": null,
   "id": "0a2bec06-e3a8-447f-aaf1-646cb7b436bb",
   "metadata": {},
   "outputs": [],
   "source": [
    "#13. write a code to find minimum number in tuple(10,20,5,15)."
   ]
  },
  {
   "cell_type": "code",
   "execution_count": 10,
   "id": "10ed67f2-8411-4923-b1d9-12aa28d9394f",
   "metadata": {},
   "outputs": [
    {
     "data": {
      "text/plain": [
       "5"
      ]
     },
     "execution_count": 10,
     "metadata": {},
     "output_type": "execute_result"
    }
   ],
   "source": [
    "t1= (10,20,5,15)\n",
    "min(t1)"
   ]
  },
  {
   "cell_type": "code",
   "execution_count": null,
   "id": "ecb7f5d8-7f5f-40e8-a1a4-7eaf59de3c64",
   "metadata": {},
   "outputs": [],
   "source": [
    "#14. write a code to find the index of element 'cat' in a tuple(\"dog\",\"cat\",\"rabbit\")."
   ]
  },
  {
   "cell_type": "code",
   "execution_count": 22,
   "id": "3ca4205c-5c25-4397-b7f3-d20512336f3e",
   "metadata": {},
   "outputs": [
    {
     "data": {
      "text/plain": [
       "'cat'"
      ]
     },
     "execution_count": 22,
     "metadata": {},
     "output_type": "execute_result"
    }
   ],
   "source": [
    "animals=(\"dog\",\"cat\",\"rabbit\")\n",
    "animals[1]"
   ]
  },
  {
   "cell_type": "code",
   "execution_count": null,
   "id": "87049b46-8aed-4102-a721-603539987753",
   "metadata": {},
   "outputs": [],
   "source": [
    "#15. write a code to create a tuple containig three different fruits and check if 'kiwi' is in it."
   ]
  },
  {
   "cell_type": "code",
   "execution_count": 35,
   "id": "fd0369b4-4e47-49e7-8914-a83e171177dd",
   "metadata": {},
   "outputs": [
    {
     "name": "stdout",
     "output_type": "stream",
     "text": [
      "kiwi is present\n"
     ]
    }
   ],
   "source": [
    "fruits=(\"apple\",\"mango\",\"kiwi\")\n",
    "if \"kiwi\" in fruits:\n",
    "    print(\"kiwi is present\")\n",
    "else:\n",
    "    print(\"kiwi is not present\")\n",
    "    "
   ]
  },
  {
   "cell_type": "code",
   "execution_count": null,
   "id": "b2f8ff5f-a30b-4835-b41b-2b5228e37c44",
   "metadata": {},
   "outputs": [],
   "source": [
    "#16.write a code to create a set with element a,b,c and print it."
   ]
  },
  {
   "cell_type": "code",
   "execution_count": 37,
   "id": "d67838d9-2394-4b3d-a3f9-a5929fa533b4",
   "metadata": {},
   "outputs": [
    {
     "name": "stdout",
     "output_type": "stream",
     "text": [
      "{'a', 'c', 'b'}\n"
     ]
    }
   ],
   "source": [
    "set1={\"a\",\"b\",\"c\"} \n",
    "print(set1)"
   ]
  },
  {
   "cell_type": "code",
   "execution_count": null,
   "id": "b047bdb7-a9e9-4109-a9ef-05820290c350",
   "metadata": {},
   "outputs": [],
   "source": [
    "#17.rite a code to clear all the element from set{1,2,3,4,5}"
   ]
  },
  {
   "cell_type": "code",
   "execution_count": 41,
   "id": "f817259d-cfc2-47e5-b010-39f18ba872ca",
   "metadata": {},
   "outputs": [],
   "source": [
    "set2={1,2,3,4,5}\n",
    "set2.clear()"
   ]
  },
  {
   "cell_type": "code",
   "execution_count": 44,
   "id": "75aa334e-8117-473b-984f-504b045609cf",
   "metadata": {},
   "outputs": [
    {
     "data": {
      "text/plain": [
       "set()"
      ]
     },
     "execution_count": 44,
     "metadata": {},
     "output_type": "execute_result"
    }
   ],
   "source": [
    "set2"
   ]
  },
  {
   "cell_type": "code",
   "execution_count": null,
   "id": "146c54af-7d7a-4b47-8da3-6e28962bd275",
   "metadata": {},
   "outputs": [],
   "source": [
    "#18.write a code to remove the element 4 from the set{1,2,3,4}"
   ]
  },
  {
   "cell_type": "code",
   "execution_count": 59,
   "id": "4d959415-f367-4e40-b6cd-bcdc3f6b5cf0",
   "metadata": {},
   "outputs": [
    {
     "data": {
      "text/plain": [
       "{1, 2, 3}"
      ]
     },
     "execution_count": 59,
     "metadata": {},
     "output_type": "execute_result"
    }
   ],
   "source": [
    "set1={1,2,3,4}\n",
    "set1.remove(4)\n",
    "set1"
   ]
  },
  {
   "cell_type": "code",
   "execution_count": null,
   "id": "fb3dafeb-5214-407f-860e-3bfb537cec62",
   "metadata": {},
   "outputs": [],
   "source": [
    "#19. write a code to find the union of 2 set {1,2,3} and {3,4,5}"
   ]
  },
  {
   "cell_type": "code",
   "execution_count": 63,
   "id": "cb0b002b-5fd4-4051-b741-f483433f69df",
   "metadata": {},
   "outputs": [
    {
     "data": {
      "text/plain": [
       "{1, 2, 3, 4, 5}"
      ]
     },
     "execution_count": 63,
     "metadata": {},
     "output_type": "execute_result"
    }
   ],
   "source": [
    "s1={1,2,3}\n",
    "s2={3,4,5}\n",
    "s1| s2"
   ]
  },
  {
   "cell_type": "code",
   "execution_count": null,
   "id": "8fc129e7-516c-4d9f-92a5-029a74ad9c07",
   "metadata": {},
   "outputs": [],
   "source": [
    "#20.write a code to find the intersection of 2 set{1,2,3}and {2,3,4}"
   ]
  },
  {
   "cell_type": "code",
   "execution_count": 65,
   "id": "2861fa51-6940-4ac6-846d-5b289bb9a505",
   "metadata": {},
   "outputs": [
    {
     "data": {
      "text/plain": [
       "{2, 3}"
      ]
     },
     "execution_count": 65,
     "metadata": {},
     "output_type": "execute_result"
    }
   ],
   "source": [
    "s1={1,2,3}\n",
    "s2={2,3,4}\n",
    "s1 & s2"
   ]
  },
  {
   "cell_type": "code",
   "execution_count": null,
   "id": "43d3e2c6-2fb7-4d88-907d-dd68045be8e5",
   "metadata": {},
   "outputs": [],
   "source": [
    "#21. write a code to create a dictionary with the keys \"name\",\"age\",and\"city\" and print it"
   ]
  },
  {
   "cell_type": "code",
   "execution_count": 78,
   "id": "af3fdcca-ecbd-43de-a660-d12f7afa14d6",
   "metadata": {},
   "outputs": [
    {
     "name": "stdout",
     "output_type": "stream",
     "text": [
      "{'name': 'shreya', 'age': '25', 'city': 'kishanganj'}\n"
     ]
    }
   ],
   "source": [
    "d={\"name\":\"shreya\",\"age\":\"25\",\"city\":\"kishanganj\"}\n",
    "print(d)"
   ]
  },
  {
   "cell_type": "code",
   "execution_count": null,
   "id": "78b4556d-ae11-4352-a5fd-65189cdcb88a",
   "metadata": {},
   "outputs": [],
   "source": [
    "#22. write a code to add a new key-value pair \"country\":\"USA\" to the dictionary {\"name\":\"john\",\"age\":25}."
   ]
  },
  {
   "cell_type": "code",
   "execution_count": 80,
   "id": "87d00863-a637-44dd-9f8d-0e1ea85543fe",
   "metadata": {},
   "outputs": [
    {
     "data": {
      "text/plain": [
       "{'name': 'john', 'age': 25, 'country': 'USA'}"
      ]
     },
     "execution_count": 80,
     "metadata": {},
     "output_type": "execute_result"
    }
   ],
   "source": [
    "d={\"name\":\"john\",\"age\":25}\n",
    "d1={\"country\":\"USA\"}\n",
    "d.update(d1)\n",
    "d"
   ]
  },
  {
   "cell_type": "code",
   "execution_count": null,
   "id": "ea7ed290-031a-49ad-a1c5-9168600621be",
   "metadata": {},
   "outputs": [],
   "source": [
    "#23. write a code to acess the value associated with  key name in dictionary c{\"name\":\"Alice\",\"age\":30}"
   ]
  },
  {
   "cell_type": "code",
   "execution_count": 1,
   "id": "b38e1ab7-705b-4785-b418-d415eeefaf1e",
   "metadata": {},
   "outputs": [
    {
     "data": {
      "text/plain": [
       "'Alice'"
      ]
     },
     "execution_count": 1,
     "metadata": {},
     "output_type": "execute_result"
    }
   ],
   "source": [
    "detail={\"name\":\"Alice\",\"age\":30}\n",
    "detail[\"name\"]"
   ]
  },
  {
   "cell_type": "code",
   "execution_count": null,
   "id": "8c67eb5f-cc49-4af3-a1f6-4ae6d62fd61b",
   "metadata": {},
   "outputs": [],
   "source": [
    "#24. write a code to remove key age from dictionary{\"name\":\"Bob\",\"age\":22,\"city\":\"New york\"}."
   ]
  },
  {
   "cell_type": "code",
   "execution_count": 9,
   "id": "9d48d775-57ca-4fd2-a4c5-60d773ab76b3",
   "metadata": {},
   "outputs": [
    {
     "name": "stdout",
     "output_type": "stream",
     "text": [
      "{'name': 'Bob', 'city': 'New york'}\n"
     ]
    }
   ],
   "source": [
    "detail={\"name\":\"Bob\",\"age\":22,\"city\":\"New york\"}\n",
    "del detail[\"age\"]\n",
    "print (detail)"
   ]
  },
  {
   "cell_type": "code",
   "execution_count": null,
   "id": "df898e04-966c-44bd-9205-bf07cf1fba2e",
   "metadata": {},
   "outputs": [],
   "source": [
    "#25.write a code to check if the key \"city\" exists in the dictionary {\"name\":\"Alice\",\"city\":\"paris\"}."
   ]
  },
  {
   "cell_type": "code",
   "execution_count": 17,
   "id": "42548ddf-1499-4eb8-a329-95eb79c1229f",
   "metadata": {},
   "outputs": [
    {
     "data": {
      "text/plain": [
       "dict_keys(['name', 'city'])"
      ]
     },
     "execution_count": 17,
     "metadata": {},
     "output_type": "execute_result"
    }
   ],
   "source": [
    "d={\"name\":\"Alice\",\"city\":\"paris\"}\n",
    "d.keys()"
   ]
  },
  {
   "cell_type": "code",
   "execution_count": null,
   "id": "6c0e35fe-1e86-4582-bb30-468a911d0d8c",
   "metadata": {},
   "outputs": [],
   "source": [
    "#26.write a code to create a list, a tuple and dictionary and print them all."
   ]
  },
  {
   "cell_type": "code",
   "execution_count": 31,
   "id": "9405cebd-317c-4f93-8cc1-e4e37148d01f",
   "metadata": {},
   "outputs": [
    {
     "name": "stdout",
     "output_type": "stream",
     "text": [
      "{'name': 'Bob', 'age': 22, 'city': 'New york'}\n",
      "['apple', 'mango', 'banana']\n",
      "('phone', 'camera', 'laptop')\n"
     ]
    }
   ],
   "source": [
    "#dictionary\n",
    "detail1={\"name\":\"Bob\",\"age\":22,\"city\":\"New york\"}\n",
    "list1=[\"apple\",\"mango\",\"banana\"]\n",
    "t1=(\"phone\",\"camera\",\"laptop\")\n",
    "print(detail1 )\n",
    "print(list1)\n",
    "print(t1)"
   ]
  },
  {
   "cell_type": "code",
   "execution_count": null,
   "id": "bae9c9a4-ec86-45ca-88cc-2a9a572abea4",
   "metadata": {},
   "outputs": [],
   "source": [
    "#27. write a code to create a list of 5 random numbers from 1 to 100 ,sort it in assending order and print the result."
   ]
  },
  {
   "cell_type": "code",
   "execution_count": 35,
   "id": "fe2f8520-7238-4500-8567-db250cf81acf",
   "metadata": {},
   "outputs": [
    {
     "data": {
      "text/plain": [
       "[4, 28, 35, 42, 66]"
      ]
     },
     "execution_count": 35,
     "metadata": {},
     "output_type": "execute_result"
    }
   ],
   "source": [
    "list1=[35,42,28,4,66]\n",
    "list1.sort()\n",
    "list1"
   ]
  },
  {
   "cell_type": "code",
   "execution_count": null,
   "id": "94f89a73-c235-4a92-88fe-ea225368d5b9",
   "metadata": {},
   "outputs": [],
   "source": [
    "#28.write a code to create a list with strings and print the element at third index."
   ]
  },
  {
   "cell_type": "code",
   "execution_count": 48,
   "id": "bf30cadd-3701-4e16-9f51-3a7b1c01df53",
   "metadata": {},
   "outputs": [
    {
     "data": {
      "text/plain": [
       "'grapes'"
      ]
     },
     "execution_count": 48,
     "metadata": {},
     "output_type": "execute_result"
    }
   ],
   "source": [
    "l=[\"apple\",\"mango\",\"banana\",\"grapes\",\"guava\"]\n",
    "l[3]"
   ]
  },
  {
   "cell_type": "code",
   "execution_count": null,
   "id": "aa2a33c3-79c9-482c-a656-a77a046c9c7e",
   "metadata": {},
   "outputs": [],
   "source": [
    "#29.write a code to combine two dictionary into one and print the result."
   ]
  },
  {
   "cell_type": "code",
   "execution_count": 57,
   "id": "6d068dc2-b567-4b54-94b1-8355bf51f10a",
   "metadata": {},
   "outputs": [
    {
     "name": "stdout",
     "output_type": "stream",
     "text": [
      "{'name': 'shreya', 'stream': 'science', 'age': 25, 'blood group': 'AB+ve'}\n"
     ]
    }
   ],
   "source": [
    "student1={\"name\":\"shreya\",\"stream\":\"science\"}\n",
    "details={\"age\":25,\"blood group\":\"AB+ve\"} \n",
    "student1.update(details)\n",
    "print(student1)"
   ]
  },
  {
   "cell_type": "code",
   "execution_count": null,
   "id": "9fecf9c1-206f-411f-88ba-945e8dff1d6f",
   "metadata": {},
   "outputs": [],
   "source": [
    "#30.write a code to convert a list of strings into a set  ."
   ]
  },
  {
   "cell_type": "code",
   "execution_count": 61,
   "id": "1dec9b5c-10ee-4026-9944-274ae8bb7017",
   "metadata": {},
   "outputs": [
    {
     "name": "stdout",
     "output_type": "stream",
     "text": [
      "{'apple', 'grapes', 'mango', 'guava', 'banana'}\n"
     ]
    }
   ],
   "source": [
    "s_l=[\"apple\",\"mango\",\"banana\",\"grapes\",\"guava\"]\n",
    "s_s=set(s_l)\n",
    "print(s_s)"
   ]
  },
  {
   "cell_type": "code",
   "execution_count": null,
   "id": "3b7ca0ff-3521-489c-b35e-ed549c0c1d4d",
   "metadata": {},
   "outputs": [],
   "source": []
  },
  {
   "cell_type": "code",
   "execution_count": null,
   "id": "9b0d5f53-62de-4c78-bb82-4672b647e338",
   "metadata": {},
   "outputs": [],
   "source": []
  },
  {
   "cell_type": "code",
   "execution_count": null,
   "id": "ed593bca-733e-4cef-81c0-5213f32da171",
   "metadata": {},
   "outputs": [],
   "source": []
  },
  {
   "cell_type": "code",
   "execution_count": null,
   "id": "b9ba413d-0941-4446-9517-01812de591e0",
   "metadata": {},
   "outputs": [],
   "source": []
  },
  {
   "cell_type": "code",
   "execution_count": null,
   "id": "c39e63ba-7f33-41b7-a2f6-fb182840039c",
   "metadata": {},
   "outputs": [],
   "source": []
  }
 ],
 "metadata": {
  "kernelspec": {
   "display_name": "Python [conda env:base] *",
   "language": "python",
   "name": "conda-base-py"
  },
  "language_info": {
   "codemirror_mode": {
    "name": "ipython",
    "version": 3
   },
   "file_extension": ".py",
   "mimetype": "text/x-python",
   "name": "python",
   "nbconvert_exporter": "python",
   "pygments_lexer": "ipython3",
   "version": "3.12.7"
  }
 },
 "nbformat": 4,
 "nbformat_minor": 5
}
